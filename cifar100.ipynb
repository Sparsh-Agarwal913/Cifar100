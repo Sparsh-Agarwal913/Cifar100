{
  "cells": [
    {
      "cell_type": "markdown",
      "metadata": {
        "id": "view-in-github",
        "colab_type": "text"
      },
      "source": [
        "<a href=\"https://colab.research.google.com/github/Sparsh-Agarwal913/Cifar100/blob/main/cifar100.ipynb\" target=\"_parent\"><img src=\"https://colab.research.google.com/assets/colab-badge.svg\" alt=\"Open In Colab\"/></a>"
      ]
    },
    {
      "cell_type": "code",
      "execution_count": null,
      "metadata": {
        "id": "-LABlxogmw0t"
      },
      "outputs": [],
      "source": [
        "# %tensorflow_version 2.x\n",
        "import tensorflow as tf\n",
        "\n",
        "from tensorflow.keras import datasets, layers, models\n",
        "import matplotlib.pyplot as plt"
      ]
    },
    {
      "cell_type": "code",
      "execution_count": null,
      "metadata": {
        "colab": {
          "base_uri": "https://localhost:8080/"
        },
        "id": "FT2hva_c4CMZ",
        "outputId": "c569a83e-b4f9-4986-d6ec-852e261d15d1"
      },
      "outputs": [
        {
          "output_type": "execute_result",
          "data": {
            "text/plain": [
              "(50000, 10000, 50000, 10000)"
            ]
          },
          "metadata": {},
          "execution_count": 2
        }
      ],
      "source": [
        "(X_train, y_train), (X_test, y_test) = tf.keras.datasets.cifar100.load_data()\n",
        "\n",
        "\n",
        "X_train = X_train.astype('float32') / 255.0\n",
        "X_test = X_test.astype('float32') / 255.0\n",
        "\n",
        "y_train = tf.keras.utils.to_categorical(y_train, 100)\n",
        "y_test = tf.keras.utils.to_categorical(y_test, 100)\n",
        "len(X_train), len(X_test), len(y_train), len(y_test)"
      ]
    },
    {
      "cell_type": "code",
      "source": [
        "plt.figure(figsize=(12, 6))\n",
        "\n",
        "color_map = plt.imshow(X_train[140])\n",
        "color_map.set_cmap(\"RdYlBu\")"
      ],
      "metadata": {
        "colab": {
          "base_uri": "https://localhost:8080/",
          "height": 374
        },
        "id": "c6QLypopnOX-",
        "outputId": "c2fe4dec-1356-41fc-c3b7-4dfaffacc68e"
      },
      "execution_count": null,
      "outputs": [
        {
          "output_type": "display_data",
          "data": {
            "text/plain": [
              "<Figure size 864x432 with 1 Axes>"
            ],
            "image/png": "[encoded data removed]"
          },
          "metadata": {
            "needs_background": "light"
          }
        }
      ]
    },
    {
      "cell_type": "code",
      "execution_count": null,
      "metadata": {
        "id": "67jljro_UvxX"
      },
      "outputs": [],
      "source": [
        "# model = tf.keras.models.Sequential()\n",
        "# model.add(tf.keras.layers.Conv2D(32, (3, 3), activation='relu', padding='same', input_shape=(32, 32, 3)))\n",
        "# model.add(tf.keras.layers.MaxPooling2D(2, 2))\n",
        "# model.add(tf.keras.layers.Conv2D(64, (2, 2), activation='relu', padding='same'))\n",
        "# model.add(tf.keras.layers.MaxPooling2D(2, 2))\n",
        "# model.add(tf.keras.layers.Conv2D(32, (3, 3), activation='relu', padding='same'))\n",
        "# model.add(tf.keras.layers.MaxPooling2D(2, 2))\n",
        "# model.add(tf.keras.layers.Flatten())\n",
        "# model.add(tf.keras.layers.Dense(128, activation='relu'))\n",
        "# model.add(tf.keras.layers.Dense(128, activation='relu'))\n",
        "# model.add(tf.keras.layers.Dense(100))"
      ]
    },
    {
      "cell_type": "code",
      "execution_count": null,
      "metadata": {
        "id": "hBn1pFSgUyc8"
      },
      "outputs": [],
      "source": [
        "# model.compile(optimizer=tf.keras.optimizers.SGD(lr = 0.001), loss='categorical_crossentropy', metrics=['accuracy'])"
      ]
    },
    {
      "cell_type": "code",
      "execution_count": null,
      "metadata": {
        "id": "ebNrmZskLLjJ"
      },
      "outputs": [],
      "source": [
        "# model = tf.keras.models.Sequential()\n",
        "# model.add(tf.keras.layers.Conv2D(32,(3, 3), activation='relu', input_shape=(32, 32, 3)))\n",
        "# model.add(tf.keras.layers.MaxPooling2D(2, 2))\n",
        "# model.add(tf.keras.layers.Conv2D(32,(3, 3), activation='relu'))\n",
        "# model.add(tf.keras.layers.MaxPooling2D(2, 2))\n",
        "# model.add(tf.keras.layers.Conv2D(32,(3, 3), activation='relu'))\n",
        "# model.add(tf.keras.layers.MaxPooling2D(1, 1))\n",
        "\n",
        "# model.add(tf.keras.layers.Conv2D(32,(3, 3), activation='relu',input_shape=(32, 32, 3)))\n",
        "# # model.add(tf.keras.layers.MaxPooling2D(2, 2))\n",
        "# model.add(tf.keras.layers.Conv2D(32,(3, 3), activation='relu',padding='same'))\n",
        "# # model.add(tf.keras.layers.MaxPooling2D(2, 2))\n",
        "# model.add(tf.keras.layers.Conv2D(32,(3, 3), activation='relu',padding='same'))\n",
        "# model.add(tf.keras.layers.MaxPooling2D(1, 1))\n",
        "\n",
        "# model.add(layers.Flatten())\n",
        "# model.add(tf.keras.layers.Dense(128, activation='relu'))\n",
        "# model.add(tf.keras.layers.Dense(104, activation='relu'))\n",
        "# model.add(tf.keras.layers.Dense(128, activation='relu'))\n",
        "# model.add(tf.keras.layers.Dense(104, activation='relu'))\n",
        "# model.add(tf.keras.layers.Dense(128, activation='relu'))\n",
        "# model.add(tf.keras.layers.Dense(104, activation='relu'))\n",
        "# model.add(tf.keras.layers.Dense(100, activation ='softmax'))"
      ]
    },
    {
      "cell_type": "code",
      "execution_count": null,
      "metadata": {
        "id": "PmlCmZQCX0t1"
      },
      "outputs": [],
      "source": [
        "# from tensorflow.keras.applications.vgg19 import VGG19\n",
        "# VG19=VGG19(weights=\"imagenet\",include_top=False)"
      ]
    },
    {
      "cell_type": "code",
      "execution_count": null,
      "metadata": {
        "id": "XrvR_LEqYYbk"
      },
      "outputs": [],
      "source": [
        "# VG19=VGG19(weights=\"imagenet\",include_top=False)"
      ]
    },
    {
      "cell_type": "code",
      "execution_count": null,
      "metadata": {
        "id": "7CDVodpoXcaL"
      },
      "outputs": [],
      "source": [
        "# model=tf.keras.models.Sequential()\n",
        "# model.add(VG19)\n",
        "# model.add(tf.keras.layers.GlobalAveragePooling2D(name=\"GAP\"))\n",
        "# model.add(tf.keras.layers.Dense(100,activation=tf.keras.activations.softmax,name=\"Prediction\"))"
      ]
    },
    {
      "cell_type": "code",
      "execution_count": null,
      "metadata": {
        "id": "aUKPnCvrKlib"
      },
      "outputs": [],
      "source": [
        "# model.compile(optimizer='adam', loss='categorical_crossentropy', metrics=['accuracy'])"
      ]
    },
    {
      "cell_type": "code",
      "source": [
        "X_train.shape"
      ],
      "metadata": {
        "colab": {
          "base_uri": "https://localhost:8080/"
        },
        "id": "58j4Fcd86kzA",
        "outputId": "221aee9b-ba34-4d4e-a35d-27dc6a0a1ca6"
      },
      "execution_count": null,
      "outputs": [
        {
          "output_type": "execute_result",
          "data": {
            "text/plain": [
              "(50000, 32, 32, 3)"
            ]
          },
          "metadata": {},
          "execution_count": 11
        }
      ]
    },
    {
      "cell_type": "code",
      "execution_count": null,
      "metadata": {
        "id": "PZvyv6ICK9Oy"
      },
      "outputs": [],
      "source": [
        "model = tf.keras.models.Sequential([\n",
        "    tf.keras.layers.Conv2D(32, (3,3), activation='relu', padding='same', input_shape=(32, 32, 3)),\n",
        "    tf.keras.layers.BatchNormalization(),\n",
        "    tf.keras.layers.Conv2D(32, (3,3), activation='relu', padding='same'),\n",
        "    tf.keras.layers.BatchNormalization(),\n",
        "    tf.keras.layers.MaxPooling2D(2,2),\n",
        "    tf.keras.layers.Dropout(0.3),\n",
        "    tf.keras.layers.Conv2D(64, (3,3), activation='relu', padding='same'),\n",
        "    tf.keras.layers.BatchNormalization(),\n",
        "    tf.keras.layers.Conv2D(64, (3,3), activation='relu', padding='same'),\n",
        "    tf.keras.layers.BatchNormalization(),\n",
        "    tf.keras.layers.MaxPooling2D(2,2),\n",
        "    tf.keras.layers.Dropout(0.3),\n",
        "    tf.keras.layers.Conv2D(128, (3,3), activation='relu', padding='same'),\n",
        "    tf.keras.layers.BatchNormalization(),\n",
        "    tf.keras.layers.Conv2D(128, (3,3), activation='relu', padding='same'),\n",
        "    tf.keras.layers.BatchNormalization(),\n",
        "    tf.keras.layers.Dropout(0.3),\n",
        "    tf.keras.layers.Conv2D(256, (3,3), activation='relu', padding='same'),\n",
        "    tf.keras.layers.BatchNormalization(),\n",
        "    tf.keras.layers.Conv2D(256, (3,3), activation='relu', padding='same'),\n",
        "    tf.keras.layers.BatchNormalization(),\n",
        "    tf.keras.layers.MaxPooling2D(2,2),\n",
        "    tf.keras.layers.Dropout(0.3),\n",
        "    tf.keras.layers.Flatten(),\n",
        "    tf.keras.layers.Dense(512, activation='relu'),\n",
        "    tf.keras.layers.Dropout(0.3),\n",
        "    tf.keras.layers.Dense(100, activation='softmax')\n",
        "])\n"
      ]
    },
    {
      "cell_type": "code",
      "execution_count": null,
      "metadata": {
        "id": "aaI0k8_kQ0uq"
      },
      "outputs": [],
      "source": [
        "model.compile(optimizer='adam', loss='categorical_crossentropy', metrics=['accuracy'])"
      ]
    },
    {
      "cell_type": "code",
      "execution_count": null,
      "metadata": {
        "colab": {
          "base_uri": "https://localhost:8080/"
        },
        "id": "8JnO6-VdU3Hk",
        "outputId": "6d9e6610-63c8-40e8-df69-4fbd6caea001"
      },
      "outputs": [
        {
          "output_type": "stream",
          "name": "stdout",
          "text": [
            "Epoch 1/30\n",
            "1250/1250 [==============================] - 14s 11ms/step - loss: 2.2184 - accuracy: 0.4172 - val_loss: 2.0779 - val_accuracy: 0.4521\n",
            "Epoch 2/30\n",
            "1250/1250 [==============================] - 14s 11ms/step - loss: 2.1801 - accuracy: 0.4300 - val_loss: 2.2140 - val_accuracy: 0.4307\n",
            "Epoch 3/30\n",
            "1250/1250 [==============================] - 16s 13ms/step - loss: 2.0241 - accuracy: 0.4627 - val_loss: 2.0246 - val_accuracy: 0.4691\n",
            "Epoch 4/30\n",
            "1250/1250 [==============================] - 14s 11ms/step - loss: 1.9223 - accuracy: 0.4855 - val_loss: 2.2573 - val_accuracy: 0.4211\n",
            "Epoch 5/30\n",
            "1250/1250 [==============================] - 13s 11ms/step - loss: 1.8766 - accuracy: 0.4946 - val_loss: 2.2874 - val_accuracy: 0.4272\n",
            "Epoch 6/30\n",
            "1250/1250 [==============================] - 14s 11ms/step - loss: 1.7917 - accuracy: 0.5120 - val_loss: 1.8553 - val_accuracy: 0.5086\n",
            "Epoch 7/30\n",
            "1250/1250 [==============================] - 14s 11ms/step - loss: 1.6758 - accuracy: 0.5439 - val_loss: 1.8433 - val_accuracy: 0.5122\n",
            "Epoch 8/30\n",
            "1250/1250 [==============================] - 13s 11ms/step - loss: 1.5690 - accuracy: 0.5606 - val_loss: 1.9396 - val_accuracy: 0.4951\n",
            "Epoch 9/30\n",
            "1250/1250 [==============================] - 14s 11ms/step - loss: 1.4954 - accuracy: 0.5804 - val_loss: 1.8128 - val_accuracy: 0.5303\n",
            "Epoch 10/30\n",
            "1250/1250 [==============================] - 14s 11ms/step - loss: 1.3254 - accuracy: 0.6191 - val_loss: 1.8030 - val_accuracy: 0.5397\n",
            "Epoch 11/30\n",
            "1250/1250 [==============================] - 14s 11ms/step - loss: 1.2446 - accuracy: 0.6382 - val_loss: 1.7661 - val_accuracy: 0.5431\n",
            "Epoch 12/30\n",
            "1250/1250 [==============================] - 14s 11ms/step - loss: 1.1791 - accuracy: 0.6559 - val_loss: 1.7911 - val_accuracy: 0.5391\n",
            "Epoch 13/30\n",
            "1250/1250 [==============================] - 13s 11ms/step - loss: 1.1246 - accuracy: 0.6661 - val_loss: 1.7660 - val_accuracy: 0.5411\n",
            "Epoch 14/30\n",
            "1250/1250 [==============================] - 14s 11ms/step - loss: 1.0731 - accuracy: 0.6809 - val_loss: 1.8078 - val_accuracy: 0.5440\n",
            "Epoch 15/30\n",
            "1250/1250 [==============================] - 14s 11ms/step - loss: 1.0189 - accuracy: 0.6952 - val_loss: 1.8135 - val_accuracy: 0.5507\n",
            "Epoch 16/30\n",
            "1250/1250 [==============================] - 13s 11ms/step - loss: 0.9787 - accuracy: 0.7057 - val_loss: 1.8966 - val_accuracy: 0.5506\n",
            "Epoch 17/30\n",
            "1250/1250 [==============================] - 13s 11ms/step - loss: 0.9398 - accuracy: 0.7135 - val_loss: 1.8273 - val_accuracy: 0.5562\n",
            "Epoch 18/30\n",
            "1250/1250 [==============================] - 13s 11ms/step - loss: 0.9006 - accuracy: 0.7252 - val_loss: 1.8448 - val_accuracy: 0.5469\n",
            "Epoch 19/30\n",
            "1250/1250 [==============================] - 13s 11ms/step - loss: 0.8660 - accuracy: 0.7353 - val_loss: 1.8071 - val_accuracy: 0.5510\n",
            "Epoch 20/30\n",
            "1250/1250 [==============================] - 13s 11ms/step - loss: 0.8344 - accuracy: 0.7463 - val_loss: 1.9114 - val_accuracy: 0.5403\n",
            "Epoch 21/30\n",
            "1250/1250 [==============================] - 13s 11ms/step - loss: 0.8140 - accuracy: 0.7517 - val_loss: 1.8732 - val_accuracy: 0.5502\n",
            "Epoch 22/30\n",
            "1250/1250 [==============================] - 13s 11ms/step - loss: 0.7746 - accuracy: 0.7620 - val_loss: 1.9129 - val_accuracy: 0.5428\n",
            "Epoch 23/30\n",
            "1250/1250 [==============================] - 13s 11ms/step - loss: 0.7500 - accuracy: 0.7684 - val_loss: 1.8923 - val_accuracy: 0.5530\n",
            "Epoch 24/30\n",
            "1250/1250 [==============================] - 14s 11ms/step - loss: 0.7327 - accuracy: 0.7743 - val_loss: 1.9099 - val_accuracy: 0.5535\n",
            "Epoch 25/30\n",
            "1250/1250 [==============================] - 13s 11ms/step - loss: 0.6984 - accuracy: 0.7825 - val_loss: 1.9669 - val_accuracy: 0.5509\n",
            "Epoch 26/30\n",
            "1250/1250 [==============================] - 13s 11ms/step - loss: 0.6985 - accuracy: 0.7834 - val_loss: 1.9489 - val_accuracy: 0.5548\n",
            "Epoch 27/30\n",
            "1250/1250 [==============================] - 14s 11ms/step - loss: 0.6733 - accuracy: 0.7908 - val_loss: 2.0277 - val_accuracy: 0.5482\n",
            "Epoch 28/30\n",
            "1250/1250 [==============================] - 14s 11ms/step - loss: 0.6538 - accuracy: 0.7967 - val_loss: 1.9879 - val_accuracy: 0.5533\n",
            "Epoch 29/30\n",
            "1250/1250 [==============================] - 14s 11ms/step - loss: 0.6369 - accuracy: 0.8011 - val_loss: 1.9817 - val_accuracy: 0.5536\n",
            "Epoch 30/30\n",
            "1250/1250 [==============================] - 14s 11ms/step - loss: 0.6171 - accuracy: 0.8067 - val_loss: 2.0899 - val_accuracy: 0.5591\n"
          ]
        },
        {
          "output_type": "execute_result",
          "data": {
            "text/plain": [
              "<keras.callbacks.History at 0x7f9e325f8dc0>"
            ]
          },
          "metadata": {},
          "execution_count": 21
        }
      ],
      "source": [
        "model.fit(X_train, y_train, batch_size=40, epochs=30, validation_data=(X_test, y_test))"
      ]
    },
    {
      "cell_type": "code",
      "execution_count": null,
      "metadata": {
        "id": "IgoPNMFSU56N"
      },
      "outputs": [],
      "source": [
        "test_loss, test_acc = model.evaluate(X_test, y_test)\n",
        "print(f'Test accuracy: {test_acc:.2f}')"
      ]
    }
  ],
  "metadata": {
    "accelerator": "GPU",
    "colab": {
      "provenance": [],
      "include_colab_link": true
    },
    "gpuClass": "standard",
    "kernelspec": {
      "display_name": "Python 3",
      "name": "python3"
    },
    "language_info": {
      "name": "python"
    }
  },
  "nbformat": 4,
  "nbformat_minor": 0
}